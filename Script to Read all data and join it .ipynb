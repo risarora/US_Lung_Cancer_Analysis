{
 "cells": [
  {
   "cell_type": "code",
   "execution_count": 1,
   "metadata": {
    "collapsed": true
   },
   "outputs": [],
   "source": [
    "import pandas as pd "
   ]
  },
  {
   "cell_type": "code",
   "execution_count": 28,
   "metadata": {
    "collapsed": true
   },
   "outputs": [],
   "source": [
    "# Load libraries\n",
    "import os\n",
    "import re\n",
    "import fileinput\n",
    "import sys\n",
    "from glob import glob\n",
    "import shutil\n",
    "\n",
    "\n"
   ]
  },
  {
   "cell_type": "code",
   "execution_count": 73,
   "metadata": {},
   "outputs": [],
   "source": [
    "# Create path to content\n",
    "path = 'data'"
   ]
  },
  {
   "cell_type": "code",
   "execution_count": 74,
   "metadata": {
    "collapsed": true
   },
   "outputs": [],
   "source": [
    "# Find all jupyter notebooks in all content folders\n",
    "all_ipynb_files = [os.path.join(root, name)\n",
    "                   for root, dirs, files in os.walk(path)\n",
    "                       for name in files\n",
    "                           if name.endswith((\".csv\"))]\n",
    "\n",
    "# Remove all notebooks from checkpoint folders\n",
    "ipynb_files = [ x for x in all_ipynb_files if \".ipynb_checkpoints\" not in x ]"
   ]
  },
  {
   "cell_type": "code",
   "execution_count": 75,
   "metadata": {},
   "outputs": [
    {
     "data": {
      "text/plain": [
       "['data\\\\CancerData\\\\CancerRaw_Data.csv',\n",
       " 'data\\\\CensusData\\\\CensusData.csv',\n",
       " 'data\\\\TobacoUsageData\\\\Behavioral_Risk_Factor_Data__Tobacco_Use__2011_to_present_.csv']"
      ]
     },
     "execution_count": 75,
     "metadata": {},
     "output_type": "execute_result"
    }
   ],
   "source": [
    "ipynb_files"
   ]
  },
  {
   "cell_type": "code",
   "execution_count": 76,
   "metadata": {},
   "outputs": [],
   "source": [
    "data = pd.read_csv(ipynb_files[1])"
   ]
  },
  {
   "cell_type": "code",
   "execution_count": 90,
   "metadata": {},
   "outputs": [],
   "source": [
    "# Read Census Data\n",
    "Cancer_pd = pd.read_csv('data\\\\CancerData\\\\LungCancerPatientsperState_Data.csv')\n",
    "\n",
    "# Read Lung Cancer Data\n",
    "Census_pd = pd.read_csv('data\\\\CensusData\\\\US_Census_data.csv')\n",
    "\n",
    "# Read Tobaco Usage Data  \n",
    "TobacoUsage_pd = pd.read_csv('data\\\\TobacoUsageData\\\\Behavioral_Risk_Factor_Data__Tobacco_Use__2011_to_present_.csv')\n",
    "\n",
    "# Read Pollution Data \n",
    "Pollution_pd = pd.read_csv('C:\\\\Users\\\\rarora17\\\\Desktop\\\\Hackathon\\\\data\\\\AirPollutionData\\\\uspollution_pollution_us_2000_2016.csv')\n"
   ]
  },
  {
   "cell_type": "code",
   "execution_count": 91,
   "metadata": {},
   "outputs": [
    {
     "name": "stdout",
     "output_type": "stream",
     "text": [
      "Cancer_pd.shape (300, 4)\n"
     ]
    },
    {
     "data": {
      "text/html": [
       "<div>\n",
       "<style scoped>\n",
       "    .dataframe tbody tr th:only-of-type {\n",
       "        vertical-align: middle;\n",
       "    }\n",
       "\n",
       "    .dataframe tbody tr th {\n",
       "        vertical-align: top;\n",
       "    }\n",
       "\n",
       "    .dataframe thead th {\n",
       "        text-align: right;\n",
       "    }\n",
       "</style>\n",
       "<table border=\"1\" class=\"dataframe\">\n",
       "  <thead>\n",
       "    <tr style=\"text-align: right;\">\n",
       "      <th></th>\n",
       "      <th>YEAR</th>\n",
       "      <th>LocationDesc</th>\n",
       "      <th>StateCode</th>\n",
       "      <th>Lung Cancer Patients Count</th>\n",
       "    </tr>\n",
       "  </thead>\n",
       "  <tbody>\n",
       "    <tr>\n",
       "      <th>0</th>\n",
       "      <td>2011</td>\n",
       "      <td>Alabama</td>\n",
       "      <td>AL</td>\n",
       "      <td>4240</td>\n",
       "    </tr>\n",
       "    <tr>\n",
       "      <th>1</th>\n",
       "      <td>2011</td>\n",
       "      <td>Alaska</td>\n",
       "      <td>AK</td>\n",
       "      <td>380</td>\n",
       "    </tr>\n",
       "    <tr>\n",
       "      <th>2</th>\n",
       "      <td>2011</td>\n",
       "      <td>Arizona</td>\n",
       "      <td>AZ</td>\n",
       "      <td>3820</td>\n",
       "    </tr>\n",
       "    <tr>\n",
       "      <th>3</th>\n",
       "      <td>2011</td>\n",
       "      <td>Arkansas</td>\n",
       "      <td>AR</td>\n",
       "      <td>2660</td>\n",
       "    </tr>\n",
       "    <tr>\n",
       "      <th>4</th>\n",
       "      <td>2011</td>\n",
       "      <td>California</td>\n",
       "      <td>CA</td>\n",
       "      <td>17660</td>\n",
       "    </tr>\n",
       "  </tbody>\n",
       "</table>\n",
       "</div>"
      ],
      "text/plain": [
       "   YEAR LocationDesc StateCode  Lung Cancer Patients Count\n",
       "0  2011      Alabama        AL                        4240\n",
       "1  2011       Alaska        AK                         380\n",
       "2  2011      Arizona        AZ                        3820\n",
       "3  2011     Arkansas        AR                        2660\n",
       "4  2011   California        CA                       17660"
      ]
     },
     "execution_count": 91,
     "metadata": {},
     "output_type": "execute_result"
    }
   ],
   "source": [
    "print('Cancer_pd.shape',Cancer_pd.shape)\n",
    "Cancer_pd.head()\n",
    "#Cancer_pd.describe()\n"
   ]
  },
  {
   "cell_type": "markdown",
   "metadata": {},
   "source": [
    "### Clean the Census Data "
   ]
  },
  {
   "cell_type": "code",
   "execution_count": 93,
   "metadata": {},
   "outputs": [
    {
     "name": "stdout",
     "output_type": "stream",
     "text": [
      "Census_pd.shape (56, 10)\n"
     ]
    },
    {
     "data": {
      "text/html": [
       "<div>\n",
       "<style scoped>\n",
       "    .dataframe tbody tr th:only-of-type {\n",
       "        vertical-align: middle;\n",
       "    }\n",
       "\n",
       "    .dataframe tbody tr th {\n",
       "        vertical-align: top;\n",
       "    }\n",
       "\n",
       "    .dataframe thead th {\n",
       "        text-align: right;\n",
       "    }\n",
       "</style>\n",
       "<table border=\"1\" class=\"dataframe\">\n",
       "  <thead>\n",
       "    <tr style=\"text-align: right;\">\n",
       "      <th></th>\n",
       "      <th>Geographic Area</th>\n",
       "      <th>Census</th>\n",
       "      <th>Estimates Base</th>\n",
       "      <th>2010</th>\n",
       "      <th>2011</th>\n",
       "      <th>2012</th>\n",
       "      <th>2013</th>\n",
       "      <th>2014</th>\n",
       "      <th>2015</th>\n",
       "      <th>2016</th>\n",
       "    </tr>\n",
       "  </thead>\n",
       "  <tbody>\n",
       "    <tr>\n",
       "      <th>0</th>\n",
       "      <td>United States</td>\n",
       "      <td>308745538</td>\n",
       "      <td>308758105</td>\n",
       "      <td>309348193</td>\n",
       "      <td>311663358</td>\n",
       "      <td>313998379</td>\n",
       "      <td>316204908</td>\n",
       "      <td>318563456</td>\n",
       "      <td>320896618</td>\n",
       "      <td>323127513</td>\n",
       "    </tr>\n",
       "    <tr>\n",
       "      <th>1</th>\n",
       "      <td>Northeast</td>\n",
       "      <td>55317240</td>\n",
       "      <td>55318353</td>\n",
       "      <td>55388056</td>\n",
       "      <td>55632766</td>\n",
       "      <td>55829059</td>\n",
       "      <td>55988771</td>\n",
       "      <td>56116791</td>\n",
       "      <td>56184737</td>\n",
       "      <td>56209510</td>\n",
       "    </tr>\n",
       "    <tr>\n",
       "      <th>2</th>\n",
       "      <td>Midwest</td>\n",
       "      <td>66927001</td>\n",
       "      <td>66929825</td>\n",
       "      <td>66978602</td>\n",
       "      <td>67153331</td>\n",
       "      <td>67332320</td>\n",
       "      <td>67543948</td>\n",
       "      <td>67726368</td>\n",
       "      <td>67838387</td>\n",
       "      <td>67941429</td>\n",
       "    </tr>\n",
       "    <tr>\n",
       "      <th>3</th>\n",
       "      <td>South</td>\n",
       "      <td>114555744</td>\n",
       "      <td>114563005</td>\n",
       "      <td>114863114</td>\n",
       "      <td>116061801</td>\n",
       "      <td>117299171</td>\n",
       "      <td>118424320</td>\n",
       "      <td>119696311</td>\n",
       "      <td>121039206</td>\n",
       "      <td>122319574</td>\n",
       "    </tr>\n",
       "    <tr>\n",
       "      <th>4</th>\n",
       "      <td>West</td>\n",
       "      <td>71945553</td>\n",
       "      <td>71946922</td>\n",
       "      <td>72118421</td>\n",
       "      <td>72815460</td>\n",
       "      <td>73537829</td>\n",
       "      <td>74247869</td>\n",
       "      <td>75023986</td>\n",
       "      <td>75834288</td>\n",
       "      <td>76657000</td>\n",
       "    </tr>\n",
       "  </tbody>\n",
       "</table>\n",
       "</div>"
      ],
      "text/plain": [
       "  Geographic Area     Census  Estimates Base       2010       2011       2012  \\\n",
       "0   United States  308745538       308758105  309348193  311663358  313998379   \n",
       "1       Northeast   55317240        55318353   55388056   55632766   55829059   \n",
       "2         Midwest   66927001        66929825   66978602   67153331   67332320   \n",
       "3           South  114555744       114563005  114863114  116061801  117299171   \n",
       "4            West   71945553        71946922   72118421   72815460   73537829   \n",
       "\n",
       "        2013       2014       2015       2016  \n",
       "0  316204908  318563456  320896618  323127513  \n",
       "1   55988771   56116791   56184737   56209510  \n",
       "2   67543948   67726368   67838387   67941429  \n",
       "3  118424320  119696311  121039206  122319574  \n",
       "4   74247869   75023986   75834288   76657000  "
      ]
     },
     "execution_count": 93,
     "metadata": {},
     "output_type": "execute_result"
    }
   ],
   "source": [
    "print('Census_pd.shape',Census_pd.shape)\n",
    "Census_pd.head()\n",
    "#Census_pd.describe()"
   ]
  },
  {
   "cell_type": "code",
   "execution_count": 96,
   "metadata": {},
   "outputs": [],
   "source": [
    "Census_pd = Census_pd.drop([0,1,2,3,4])"
   ]
  },
  {
   "cell_type": "code",
   "execution_count": 98,
   "metadata": {},
   "outputs": [
    {
     "name": "stdout",
     "output_type": "stream",
     "text": [
      "Census_pd.shape (51, 10)\n"
     ]
    },
    {
     "data": {
      "text/html": [
       "<div>\n",
       "<style scoped>\n",
       "    .dataframe tbody tr th:only-of-type {\n",
       "        vertical-align: middle;\n",
       "    }\n",
       "\n",
       "    .dataframe tbody tr th {\n",
       "        vertical-align: top;\n",
       "    }\n",
       "\n",
       "    .dataframe thead th {\n",
       "        text-align: right;\n",
       "    }\n",
       "</style>\n",
       "<table border=\"1\" class=\"dataframe\">\n",
       "  <thead>\n",
       "    <tr style=\"text-align: right;\">\n",
       "      <th></th>\n",
       "      <th>Geographic Area</th>\n",
       "      <th>Census</th>\n",
       "      <th>Estimates Base</th>\n",
       "      <th>2010</th>\n",
       "      <th>2011</th>\n",
       "      <th>2012</th>\n",
       "      <th>2013</th>\n",
       "      <th>2014</th>\n",
       "      <th>2015</th>\n",
       "      <th>2016</th>\n",
       "    </tr>\n",
       "  </thead>\n",
       "  <tbody>\n",
       "    <tr>\n",
       "      <th>5</th>\n",
       "      <td>Alabama</td>\n",
       "      <td>4779736</td>\n",
       "      <td>4780131</td>\n",
       "      <td>4785492</td>\n",
       "      <td>4799918</td>\n",
       "      <td>4815960</td>\n",
       "      <td>4829479</td>\n",
       "      <td>4843214</td>\n",
       "      <td>4853875</td>\n",
       "      <td>4863300</td>\n",
       "    </tr>\n",
       "    <tr>\n",
       "      <th>6</th>\n",
       "      <td>Alaska</td>\n",
       "      <td>710231</td>\n",
       "      <td>710249</td>\n",
       "      <td>714031</td>\n",
       "      <td>722713</td>\n",
       "      <td>731089</td>\n",
       "      <td>736879</td>\n",
       "      <td>736705</td>\n",
       "      <td>737709</td>\n",
       "      <td>741894</td>\n",
       "    </tr>\n",
       "    <tr>\n",
       "      <th>7</th>\n",
       "      <td>Arizona</td>\n",
       "      <td>6392017</td>\n",
       "      <td>6392301</td>\n",
       "      <td>6408312</td>\n",
       "      <td>6467163</td>\n",
       "      <td>6549634</td>\n",
       "      <td>6624617</td>\n",
       "      <td>6719993</td>\n",
       "      <td>6817565</td>\n",
       "      <td>6931071</td>\n",
       "    </tr>\n",
       "    <tr>\n",
       "      <th>8</th>\n",
       "      <td>Arkansas</td>\n",
       "      <td>2915918</td>\n",
       "      <td>2916025</td>\n",
       "      <td>2921995</td>\n",
       "      <td>2939493</td>\n",
       "      <td>2950685</td>\n",
       "      <td>2958663</td>\n",
       "      <td>2966912</td>\n",
       "      <td>2977853</td>\n",
       "      <td>2988248</td>\n",
       "    </tr>\n",
       "    <tr>\n",
       "      <th>9</th>\n",
       "      <td>California</td>\n",
       "      <td>37253956</td>\n",
       "      <td>37254522</td>\n",
       "      <td>37332685</td>\n",
       "      <td>37676861</td>\n",
       "      <td>38011074</td>\n",
       "      <td>38335203</td>\n",
       "      <td>38680810</td>\n",
       "      <td>38993940</td>\n",
       "      <td>39250017</td>\n",
       "    </tr>\n",
       "  </tbody>\n",
       "</table>\n",
       "</div>"
      ],
      "text/plain": [
       "  Geographic Area    Census  Estimates Base      2010      2011      2012  \\\n",
       "5         Alabama   4779736         4780131   4785492   4799918   4815960   \n",
       "6          Alaska    710231          710249    714031    722713    731089   \n",
       "7         Arizona   6392017         6392301   6408312   6467163   6549634   \n",
       "8        Arkansas   2915918         2916025   2921995   2939493   2950685   \n",
       "9      California  37253956        37254522  37332685  37676861  38011074   \n",
       "\n",
       "       2013      2014      2015      2016  \n",
       "5   4829479   4843214   4853875   4863300  \n",
       "6    736879    736705    737709    741894  \n",
       "7   6624617   6719993   6817565   6931071  \n",
       "8   2958663   2966912   2977853   2988248  \n",
       "9  38335203  38680810  38993940  39250017  "
      ]
     },
     "execution_count": 98,
     "metadata": {},
     "output_type": "execute_result"
    }
   ],
   "source": [
    "print('Census_pd.shape',Census_pd.shape)\n",
    "Census_pd.head()\n"
   ]
  },
  {
   "cell_type": "code",
   "execution_count": 99,
   "metadata": {
    "collapsed": true
   },
   "outputs": [],
   "source": [
    "### Clean the Tobaco Data "
   ]
  },
  {
   "cell_type": "code",
   "execution_count": 102,
   "metadata": {},
   "outputs": [
    {
     "name": "stdout",
     "output_type": "stream",
     "text": [
      "TobacoUsage_pd.shape (14069, 31)\n"
     ]
    },
    {
     "data": {
      "text/html": [
       "<div>\n",
       "<style scoped>\n",
       "    .dataframe tbody tr th:only-of-type {\n",
       "        vertical-align: middle;\n",
       "    }\n",
       "\n",
       "    .dataframe tbody tr th {\n",
       "        vertical-align: top;\n",
       "    }\n",
       "\n",
       "    .dataframe thead th {\n",
       "        text-align: right;\n",
       "    }\n",
       "</style>\n",
       "<table border=\"1\" class=\"dataframe\">\n",
       "  <thead>\n",
       "    <tr style=\"text-align: right;\">\n",
       "      <th></th>\n",
       "      <th>YEAR</th>\n",
       "      <th>LocationAbbr</th>\n",
       "      <th>LocationDesc</th>\n",
       "      <th>TopicType</th>\n",
       "      <th>TopicDesc</th>\n",
       "      <th>MeasureDesc</th>\n",
       "      <th>DataSource</th>\n",
       "      <th>Response</th>\n",
       "      <th>Data_Value_Unit</th>\n",
       "      <th>Data_Value_Type</th>\n",
       "      <th>...</th>\n",
       "      <th>GeoLocation</th>\n",
       "      <th>TopicTypeId</th>\n",
       "      <th>TopicId</th>\n",
       "      <th>MeasureId</th>\n",
       "      <th>StratificationID1</th>\n",
       "      <th>StratificationID2</th>\n",
       "      <th>StratificationID3</th>\n",
       "      <th>StratificationID4</th>\n",
       "      <th>SubMeasureID</th>\n",
       "      <th>DisplayOrder</th>\n",
       "    </tr>\n",
       "  </thead>\n",
       "  <tbody>\n",
       "    <tr>\n",
       "      <th>0</th>\n",
       "      <td>2014-2015</td>\n",
       "      <td>AL</td>\n",
       "      <td>Alabama</td>\n",
       "      <td>Tobacco Use – Survey Data</td>\n",
       "      <td>Cigarette Use (Adults)</td>\n",
       "      <td>Current Smoking – (2 yrs – Race/Ethnicity)</td>\n",
       "      <td>BRFSS</td>\n",
       "      <td>NaN</td>\n",
       "      <td>%</td>\n",
       "      <td>Percentage</td>\n",
       "      <td>...</td>\n",
       "      <td>(32.84057112200048, -86.63186076199969)</td>\n",
       "      <td>BEH</td>\n",
       "      <td>100BEH</td>\n",
       "      <td>112CS2</td>\n",
       "      <td>1GEN</td>\n",
       "      <td>8AGE</td>\n",
       "      <td>5RAC</td>\n",
       "      <td>6EDU</td>\n",
       "      <td>BRF34</td>\n",
       "      <td>34</td>\n",
       "    </tr>\n",
       "    <tr>\n",
       "      <th>1</th>\n",
       "      <td>2014-2015</td>\n",
       "      <td>AL</td>\n",
       "      <td>Alabama</td>\n",
       "      <td>Tobacco Use – Survey Data</td>\n",
       "      <td>Cigarette Use (Adults)</td>\n",
       "      <td>Current Smoking – (2 yrs – Race/Ethnicity)</td>\n",
       "      <td>BRFSS</td>\n",
       "      <td>NaN</td>\n",
       "      <td>%</td>\n",
       "      <td>Percentage</td>\n",
       "      <td>...</td>\n",
       "      <td>(32.84057112200048, -86.63186076199969)</td>\n",
       "      <td>BEH</td>\n",
       "      <td>100BEH</td>\n",
       "      <td>112CS2</td>\n",
       "      <td>1GEN</td>\n",
       "      <td>8AGE</td>\n",
       "      <td>1RAC</td>\n",
       "      <td>6EDU</td>\n",
       "      <td>BRF30</td>\n",
       "      <td>30</td>\n",
       "    </tr>\n",
       "    <tr>\n",
       "      <th>2</th>\n",
       "      <td>2014-2015</td>\n",
       "      <td>AL</td>\n",
       "      <td>Alabama</td>\n",
       "      <td>Tobacco Use – Survey Data</td>\n",
       "      <td>Cigarette Use (Adults)</td>\n",
       "      <td>Current Smoking – (2 yrs – Race/Ethnicity)</td>\n",
       "      <td>BRFSS</td>\n",
       "      <td>NaN</td>\n",
       "      <td>%</td>\n",
       "      <td>Percentage</td>\n",
       "      <td>...</td>\n",
       "      <td>(32.84057112200048, -86.63186076199969)</td>\n",
       "      <td>BEH</td>\n",
       "      <td>100BEH</td>\n",
       "      <td>112CS2</td>\n",
       "      <td>1GEN</td>\n",
       "      <td>8AGE</td>\n",
       "      <td>4RAC</td>\n",
       "      <td>6EDU</td>\n",
       "      <td>BRF33</td>\n",
       "      <td>33</td>\n",
       "    </tr>\n",
       "    <tr>\n",
       "      <th>3</th>\n",
       "      <td>2014-2015</td>\n",
       "      <td>AL</td>\n",
       "      <td>Alabama</td>\n",
       "      <td>Tobacco Use – Survey Data</td>\n",
       "      <td>Cigarette Use (Adults)</td>\n",
       "      <td>Current Smoking – (2 yrs – Race/Ethnicity)</td>\n",
       "      <td>BRFSS</td>\n",
       "      <td>NaN</td>\n",
       "      <td>%</td>\n",
       "      <td>Percentage</td>\n",
       "      <td>...</td>\n",
       "      <td>(32.84057112200048, -86.63186076199969)</td>\n",
       "      <td>BEH</td>\n",
       "      <td>100BEH</td>\n",
       "      <td>112CS2</td>\n",
       "      <td>1GEN</td>\n",
       "      <td>8AGE</td>\n",
       "      <td>3RAC</td>\n",
       "      <td>6EDU</td>\n",
       "      <td>BRF32</td>\n",
       "      <td>32</td>\n",
       "    </tr>\n",
       "    <tr>\n",
       "      <th>4</th>\n",
       "      <td>2014-2015</td>\n",
       "      <td>AL</td>\n",
       "      <td>Alabama</td>\n",
       "      <td>Tobacco Use – Survey Data</td>\n",
       "      <td>Cigarette Use (Adults)</td>\n",
       "      <td>Current Smoking – (2 yrs – Race/Ethnicity)</td>\n",
       "      <td>BRFSS</td>\n",
       "      <td>NaN</td>\n",
       "      <td>%</td>\n",
       "      <td>Percentage</td>\n",
       "      <td>...</td>\n",
       "      <td>(32.84057112200048, -86.63186076199969)</td>\n",
       "      <td>BEH</td>\n",
       "      <td>100BEH</td>\n",
       "      <td>112CS2</td>\n",
       "      <td>1GEN</td>\n",
       "      <td>8AGE</td>\n",
       "      <td>2RAC</td>\n",
       "      <td>6EDU</td>\n",
       "      <td>BRF31</td>\n",
       "      <td>31</td>\n",
       "    </tr>\n",
       "  </tbody>\n",
       "</table>\n",
       "<p>5 rows × 31 columns</p>\n",
       "</div>"
      ],
      "text/plain": [
       "        YEAR LocationAbbr LocationDesc                  TopicType  \\\n",
       "0  2014-2015           AL      Alabama  Tobacco Use – Survey Data   \n",
       "1  2014-2015           AL      Alabama  Tobacco Use – Survey Data   \n",
       "2  2014-2015           AL      Alabama  Tobacco Use – Survey Data   \n",
       "3  2014-2015           AL      Alabama  Tobacco Use – Survey Data   \n",
       "4  2014-2015           AL      Alabama  Tobacco Use – Survey Data   \n",
       "\n",
       "                TopicDesc                                 MeasureDesc  \\\n",
       "0  Cigarette Use (Adults)  Current Smoking – (2 yrs – Race/Ethnicity)   \n",
       "1  Cigarette Use (Adults)  Current Smoking – (2 yrs – Race/Ethnicity)   \n",
       "2  Cigarette Use (Adults)  Current Smoking – (2 yrs – Race/Ethnicity)   \n",
       "3  Cigarette Use (Adults)  Current Smoking – (2 yrs – Race/Ethnicity)   \n",
       "4  Cigarette Use (Adults)  Current Smoking – (2 yrs – Race/Ethnicity)   \n",
       "\n",
       "  DataSource Response Data_Value_Unit Data_Value_Type     ...       \\\n",
       "0      BRFSS      NaN               %      Percentage     ...        \n",
       "1      BRFSS      NaN               %      Percentage     ...        \n",
       "2      BRFSS      NaN               %      Percentage     ...        \n",
       "3      BRFSS      NaN               %      Percentage     ...        \n",
       "4      BRFSS      NaN               %      Percentage     ...        \n",
       "\n",
       "                               GeoLocation TopicTypeId TopicId  MeasureId  \\\n",
       "0  (32.84057112200048, -86.63186076199969)         BEH  100BEH     112CS2   \n",
       "1  (32.84057112200048, -86.63186076199969)         BEH  100BEH     112CS2   \n",
       "2  (32.84057112200048, -86.63186076199969)         BEH  100BEH     112CS2   \n",
       "3  (32.84057112200048, -86.63186076199969)         BEH  100BEH     112CS2   \n",
       "4  (32.84057112200048, -86.63186076199969)         BEH  100BEH     112CS2   \n",
       "\n",
       "   StratificationID1  StratificationID2 StratificationID3 StratificationID4  \\\n",
       "0               1GEN               8AGE              5RAC              6EDU   \n",
       "1               1GEN               8AGE              1RAC              6EDU   \n",
       "2               1GEN               8AGE              4RAC              6EDU   \n",
       "3               1GEN               8AGE              3RAC              6EDU   \n",
       "4               1GEN               8AGE              2RAC              6EDU   \n",
       "\n",
       "  SubMeasureID DisplayOrder  \n",
       "0        BRF34           34  \n",
       "1        BRF30           30  \n",
       "2        BRF33           33  \n",
       "3        BRF32           32  \n",
       "4        BRF31           31  \n",
       "\n",
       "[5 rows x 31 columns]"
      ]
     },
     "execution_count": 102,
     "metadata": {},
     "output_type": "execute_result"
    }
   ],
   "source": [
    "print('TobacoUsage_pd.shape',TobacoUsage_pd.shape)\n",
    "TobacoUsage_pd.head()"
   ]
  },
  {
   "cell_type": "code",
   "execution_count": 126,
   "metadata": {},
   "outputs": [
    {
     "data": {
      "text/plain": [
       "['2014-2015',\n",
       " '2015',\n",
       " '2016',\n",
       " '2013-2014',\n",
       " '2012-2013',\n",
       " '2011-2012',\n",
       " '2014',\n",
       " '2013',\n",
       " '2012',\n",
       " '2011',\n",
       " '2015-2016']"
      ]
     },
     "execution_count": 126,
     "metadata": {},
     "output_type": "execute_result"
    }
   ],
   "source": [
    "#Get Unique Values from a Column in Pandas Data Frame\n",
    "TobacoUsage_pd['YEAR'].unique().tolist()\n"
   ]
  },
  {
   "cell_type": "code",
   "execution_count": 167,
   "metadata": {},
   "outputs": [
    {
     "data": {
      "text/plain": [
       "2012         2124\n",
       "2014         2124\n",
       "2013         2124\n",
       "2016         2124\n",
       "2015         2124\n",
       "2011         2124\n",
       "2014-2015     265\n",
       "2015-2016     265\n",
       "2011-2012     265\n",
       "2013-2014     265\n",
       "2012-2013     265\n",
       "Name: YEAR, dtype: int64"
      ]
     },
     "execution_count": 167,
     "metadata": {},
     "output_type": "execute_result"
    }
   ],
   "source": [
    "#Get Frequency Counts of a Column\n",
    "TobacoUsage_pd['YEAR'].value_counts()"
   ]
  },
  {
   "cell_type": "code",
   "execution_count": 162,
   "metadata": {},
   "outputs": [],
   "source": [
    "#Get Frequency Counts of a Column\n",
    "Selected = TobacoUsage_pd['YEAR'].value_counts()[TobacoUsage_pd['YEAR'].value_counts()>265]"
   ]
  },
  {
   "cell_type": "code",
   "execution_count": 168,
   "metadata": {},
   "outputs": [
    {
     "data": {
      "text/plain": [
       "2012    2124\n",
       "2014    2124\n",
       "2013    2124\n",
       "2016    2124\n",
       "2015    2124\n",
       "2011    2124\n",
       "Name: YEAR, dtype: int64"
      ]
     },
     "execution_count": 168,
     "metadata": {},
     "output_type": "execute_result"
    }
   ],
   "source": [
    "Selected"
   ]
  },
  {
   "cell_type": "code",
   "execution_count": 163,
   "metadata": {},
   "outputs": [],
   "source": [
    "deleteList = Selected.index.tolist()"
   ]
  },
  {
   "cell_type": "code",
   "execution_count": 170,
   "metadata": {},
   "outputs": [
    {
     "data": {
      "text/plain": [
       "['2012', '2014', '2013', '2016', '2015', '2011']"
      ]
     },
     "execution_count": 170,
     "metadata": {},
     "output_type": "execute_result"
    }
   ],
   "source": [
    "deleteList"
   ]
  },
  {
   "cell_type": "code",
   "execution_count": 164,
   "metadata": {},
   "outputs": [],
   "source": [
    "TobacoUsage_pd_Yearonly = TobacoUsage_pd[TobacoUsage_pd.YEAR.isin(deleteList)]"
   ]
  },
  {
   "cell_type": "code",
   "execution_count": 171,
   "metadata": {},
   "outputs": [],
   "source": [
    "#TobacoUsage_pd_Yearonly.head()\n",
    "TobacoUsage_pd_Yearonly = TobacoUsage_pd[TobacoUsage_pd.YEAR.isin(TobacoUsage_pd['YEAR'].value_counts()[TobacoUsage_pd['YEAR'].value_counts()>265].index.tolist())]"
   ]
  },
  {
   "cell_type": "code",
   "execution_count": 172,
   "metadata": {},
   "outputs": [
    {
     "data": {
      "text/plain": [
       "2012    2124\n",
       "2014    2124\n",
       "2013    2124\n",
       "2016    2124\n",
       "2015    2124\n",
       "2011    2124\n",
       "Name: YEAR, dtype: int64"
      ]
     },
     "execution_count": 172,
     "metadata": {},
     "output_type": "execute_result"
    }
   ],
   "source": [
    "TobacoUsage_pd_Yearonly['YEAR'].value_counts()"
   ]
  },
  {
   "cell_type": "code",
   "execution_count": 173,
   "metadata": {},
   "outputs": [
    {
     "data": {
      "text/html": [
       "<div>\n",
       "<style scoped>\n",
       "    .dataframe tbody tr th:only-of-type {\n",
       "        vertical-align: middle;\n",
       "    }\n",
       "\n",
       "    .dataframe tbody tr th {\n",
       "        vertical-align: top;\n",
       "    }\n",
       "\n",
       "    .dataframe thead th {\n",
       "        text-align: right;\n",
       "    }\n",
       "</style>\n",
       "<table border=\"1\" class=\"dataframe\">\n",
       "  <thead>\n",
       "    <tr style=\"text-align: right;\">\n",
       "      <th></th>\n",
       "      <th>YEAR</th>\n",
       "      <th>LocationAbbr</th>\n",
       "      <th>LocationDesc</th>\n",
       "      <th>TopicType</th>\n",
       "      <th>TopicDesc</th>\n",
       "      <th>MeasureDesc</th>\n",
       "      <th>DataSource</th>\n",
       "      <th>Response</th>\n",
       "      <th>Data_Value_Unit</th>\n",
       "      <th>Data_Value_Type</th>\n",
       "      <th>...</th>\n",
       "      <th>GeoLocation</th>\n",
       "      <th>TopicTypeId</th>\n",
       "      <th>TopicId</th>\n",
       "      <th>MeasureId</th>\n",
       "      <th>StratificationID1</th>\n",
       "      <th>StratificationID2</th>\n",
       "      <th>StratificationID3</th>\n",
       "      <th>StratificationID4</th>\n",
       "      <th>SubMeasureID</th>\n",
       "      <th>DisplayOrder</th>\n",
       "    </tr>\n",
       "  </thead>\n",
       "  <tbody>\n",
       "    <tr>\n",
       "      <th>39</th>\n",
       "      <td>2015</td>\n",
       "      <td>AL</td>\n",
       "      <td>Alabama</td>\n",
       "      <td>Tobacco Use – Survey Data</td>\n",
       "      <td>Cigarette Use (Adults)</td>\n",
       "      <td>Current Smoking</td>\n",
       "      <td>BRFSS</td>\n",
       "      <td>NaN</td>\n",
       "      <td>%</td>\n",
       "      <td>Percentage</td>\n",
       "      <td>...</td>\n",
       "      <td>(32.84057112200048, -86.63186076199969)</td>\n",
       "      <td>BEH</td>\n",
       "      <td>100BEH</td>\n",
       "      <td>110CSA</td>\n",
       "      <td>1GEN</td>\n",
       "      <td>7AGE</td>\n",
       "      <td>6RAC</td>\n",
       "      <td>4EDU</td>\n",
       "      <td>BRF24</td>\n",
       "      <td>24</td>\n",
       "    </tr>\n",
       "    <tr>\n",
       "      <th>78</th>\n",
       "      <td>2016</td>\n",
       "      <td>GU</td>\n",
       "      <td>Guam</td>\n",
       "      <td>Tobacco Use – Survey Data</td>\n",
       "      <td>Cigarette Use (Adults)</td>\n",
       "      <td>Smoking Status</td>\n",
       "      <td>BRFSS</td>\n",
       "      <td>Current</td>\n",
       "      <td>%</td>\n",
       "      <td>Percentage</td>\n",
       "      <td>...</td>\n",
       "      <td>(13.444304, 144.793731)</td>\n",
       "      <td>BEH</td>\n",
       "      <td>100BEH</td>\n",
       "      <td>165SSA</td>\n",
       "      <td>2GEN</td>\n",
       "      <td>8AGE</td>\n",
       "      <td>6RAC</td>\n",
       "      <td>6EDU</td>\n",
       "      <td>BRF27</td>\n",
       "      <td>27</td>\n",
       "    </tr>\n",
       "    <tr>\n",
       "      <th>98</th>\n",
       "      <td>2016</td>\n",
       "      <td>GU</td>\n",
       "      <td>Guam</td>\n",
       "      <td>Tobacco Use – Survey Data</td>\n",
       "      <td>Cigarette Use (Adults)</td>\n",
       "      <td>Smoking Status</td>\n",
       "      <td>BRFSS</td>\n",
       "      <td>Current</td>\n",
       "      <td>%</td>\n",
       "      <td>Percentage</td>\n",
       "      <td>...</td>\n",
       "      <td>(13.444304, 144.793731)</td>\n",
       "      <td>BEH</td>\n",
       "      <td>100BEH</td>\n",
       "      <td>165SSA</td>\n",
       "      <td>3GEN</td>\n",
       "      <td>8AGE</td>\n",
       "      <td>6RAC</td>\n",
       "      <td>6EDU</td>\n",
       "      <td>BRF27</td>\n",
       "      <td>27</td>\n",
       "    </tr>\n",
       "    <tr>\n",
       "      <th>118</th>\n",
       "      <td>2016</td>\n",
       "      <td>MT</td>\n",
       "      <td>Montana</td>\n",
       "      <td>Tobacco Use – Survey Data</td>\n",
       "      <td>Cigarette Use (Adults)</td>\n",
       "      <td>Current Smoking</td>\n",
       "      <td>BRFSS</td>\n",
       "      <td>NaN</td>\n",
       "      <td>%</td>\n",
       "      <td>Percentage</td>\n",
       "      <td>...</td>\n",
       "      <td>(47.06652897200047, -109.42442064499971)</td>\n",
       "      <td>BEH</td>\n",
       "      <td>100BEH</td>\n",
       "      <td>110CSA</td>\n",
       "      <td>1GEN</td>\n",
       "      <td>8AGE</td>\n",
       "      <td>5RAC</td>\n",
       "      <td>6EDU</td>\n",
       "      <td>BRF22</td>\n",
       "      <td>22</td>\n",
       "    </tr>\n",
       "    <tr>\n",
       "      <th>138</th>\n",
       "      <td>2016</td>\n",
       "      <td>TX</td>\n",
       "      <td>Texas</td>\n",
       "      <td>Tobacco Use – Survey Data</td>\n",
       "      <td>Cigarette Use (Adults)</td>\n",
       "      <td>Current Smoking</td>\n",
       "      <td>BRFSS</td>\n",
       "      <td>NaN</td>\n",
       "      <td>%</td>\n",
       "      <td>Percentage</td>\n",
       "      <td>...</td>\n",
       "      <td>(31.827240407000488, -99.42677020599967)</td>\n",
       "      <td>BEH</td>\n",
       "      <td>100BEH</td>\n",
       "      <td>110CSA</td>\n",
       "      <td>1GEN</td>\n",
       "      <td>8AGE</td>\n",
       "      <td>5RAC</td>\n",
       "      <td>6EDU</td>\n",
       "      <td>BRF22</td>\n",
       "      <td>22</td>\n",
       "    </tr>\n",
       "  </tbody>\n",
       "</table>\n",
       "<p>5 rows × 31 columns</p>\n",
       "</div>"
      ],
      "text/plain": [
       "     YEAR LocationAbbr LocationDesc                  TopicType  \\\n",
       "39   2015           AL      Alabama  Tobacco Use – Survey Data   \n",
       "78   2016           GU         Guam  Tobacco Use – Survey Data   \n",
       "98   2016           GU         Guam  Tobacco Use – Survey Data   \n",
       "118  2016           MT      Montana  Tobacco Use – Survey Data   \n",
       "138  2016           TX        Texas  Tobacco Use – Survey Data   \n",
       "\n",
       "                  TopicDesc      MeasureDesc DataSource Response  \\\n",
       "39   Cigarette Use (Adults)  Current Smoking      BRFSS      NaN   \n",
       "78   Cigarette Use (Adults)   Smoking Status      BRFSS  Current   \n",
       "98   Cigarette Use (Adults)   Smoking Status      BRFSS  Current   \n",
       "118  Cigarette Use (Adults)  Current Smoking      BRFSS      NaN   \n",
       "138  Cigarette Use (Adults)  Current Smoking      BRFSS      NaN   \n",
       "\n",
       "    Data_Value_Unit Data_Value_Type     ...       \\\n",
       "39                %      Percentage     ...        \n",
       "78                %      Percentage     ...        \n",
       "98                %      Percentage     ...        \n",
       "118               %      Percentage     ...        \n",
       "138               %      Percentage     ...        \n",
       "\n",
       "                                  GeoLocation TopicTypeId TopicId  MeasureId  \\\n",
       "39    (32.84057112200048, -86.63186076199969)         BEH  100BEH     110CSA   \n",
       "78                    (13.444304, 144.793731)         BEH  100BEH     165SSA   \n",
       "98                    (13.444304, 144.793731)         BEH  100BEH     165SSA   \n",
       "118  (47.06652897200047, -109.42442064499971)         BEH  100BEH     110CSA   \n",
       "138  (31.827240407000488, -99.42677020599967)         BEH  100BEH     110CSA   \n",
       "\n",
       "     StratificationID1  StratificationID2 StratificationID3 StratificationID4  \\\n",
       "39                1GEN               7AGE              6RAC              4EDU   \n",
       "78                2GEN               8AGE              6RAC              6EDU   \n",
       "98                3GEN               8AGE              6RAC              6EDU   \n",
       "118               1GEN               8AGE              5RAC              6EDU   \n",
       "138               1GEN               8AGE              5RAC              6EDU   \n",
       "\n",
       "    SubMeasureID DisplayOrder  \n",
       "39         BRF24           24  \n",
       "78         BRF27           27  \n",
       "98         BRF27           27  \n",
       "118        BRF22           22  \n",
       "138        BRF22           22  \n",
       "\n",
       "[5 rows x 31 columns]"
      ]
     },
     "execution_count": 173,
     "metadata": {},
     "output_type": "execute_result"
    }
   ],
   "source": [
    "TobacoUsage_pd_Yearonly.head()"
   ]
  },
  {
   "cell_type": "code",
   "execution_count": 179,
   "metadata": {},
   "outputs": [
    {
     "ename": "SyntaxError",
     "evalue": "invalid syntax (<ipython-input-179-adea4e31cd12>, line 1)",
     "output_type": "error",
     "traceback": [
      "\u001b[1;36m  File \u001b[1;32m\"<ipython-input-179-adea4e31cd12>\"\u001b[1;36m, line \u001b[1;32m1\u001b[0m\n\u001b[1;33m    TobacoUsage_pd_Yearonly[TobacoUsage_pd_Yearonly['LocationAbbr']=='MT' AND TobacoUsage_pd_Yearonly['YEAR']=2011]\u001b[0m\n\u001b[1;37m                                                                            ^\u001b[0m\n\u001b[1;31mSyntaxError\u001b[0m\u001b[1;31m:\u001b[0m invalid syntax\n"
     ]
    }
   ],
   "source": [
    "TobacoUsage_pd_Yearonly[TobacoUsage_pd_Yearonly['LocationAbbr']=='MT' AND TobacoUsage_pd_Yearonly['YEAR']=2011]"
   ]
  },
  {
   "cell_type": "code",
   "execution_count": 183,
   "metadata": {},
   "outputs": [
    {
     "ename": "SyntaxError",
     "evalue": "invalid syntax (<ipython-input-183-ec683bf7cc1c>, line 1)",
     "output_type": "error",
     "traceback": [
      "\u001b[1;36m  File \u001b[1;32m\"<ipython-input-183-ec683bf7cc1c>\"\u001b[1;36m, line \u001b[1;32m1\u001b[0m\n\u001b[1;33m    TobacoUsage_pd_Yearonly['LocationAbbr']=='MT' || TobacoUsage_pd_Yearonly['YEAR']=2011\u001b[0m\n\u001b[1;37m                                                   ^\u001b[0m\n\u001b[1;31mSyntaxError\u001b[0m\u001b[1;31m:\u001b[0m invalid syntax\n"
     ]
    }
   ],
   "source": [
    "TobacoUsage_pd_Yearonly['LocationAbbr']=='MT' || TobacoUsage_pd_Yearonly['YEAR']=2011"
   ]
  },
  {
   "cell_type": "code",
   "execution_count": null,
   "metadata": {
    "collapsed": true
   },
   "outputs": [],
   "source": []
  },
  {
   "cell_type": "code",
   "execution_count": null,
   "metadata": {
    "collapsed": true
   },
   "outputs": [],
   "source": []
  },
  {
   "cell_type": "code",
   "execution_count": null,
   "metadata": {
    "collapsed": true
   },
   "outputs": [],
   "source": [
    "print('Pollution_pd.shape',Pollution_pd.shape)\n",
    "Pollution_pd.head\n",
    "Pollution_pd.describe()\n"
   ]
  },
  {
   "cell_type": "code",
   "execution_count": null,
   "metadata": {
    "collapsed": true
   },
   "outputs": [],
   "source": []
  }
 ],
 "metadata": {
  "kernelspec": {
   "display_name": "Python 3",
   "language": "python",
   "name": "python3"
  },
  "language_info": {
   "codemirror_mode": {
    "name": "ipython",
    "version": 3
   },
   "file_extension": ".py",
   "mimetype": "text/x-python",
   "name": "python",
   "nbconvert_exporter": "python",
   "pygments_lexer": "ipython3",
   "version": "3.6.1"
  }
 },
 "nbformat": 4,
 "nbformat_minor": 2
}
